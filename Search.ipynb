{
 "cells": [
  {
   "cell_type": "markdown",
   "metadata": {},
   "source": [
    "Author : Aya Mohamed Hassan\n",
    "Group : 2 AI Smart Village\n",
    "Lab-1"
   ]
  },
  {
   "cell_type": "markdown",
   "metadata": {},
   "source": [
    "1 -Program :  Calculate Faibonnce series Iterative                                              \n",
    "    Time Complexity :  O(num) "
   ]
  },
  {
   "cell_type": "code",
   "execution_count": 1,
   "metadata": {},
   "outputs": [
    {
     "name": "stdout",
     "output_type": "stream",
     "text": [
      "The Result = 34\n"
     ]
    }
   ],
   "source": [
    "def Fib_iter(num):\n",
    "    first = 0\n",
    "    second = 1\n",
    "    sum = 0\n",
    "    for i in range(1,num):\n",
    "        sum = first+second\n",
    "        first = second\n",
    "        second = sum\n",
    "    return sum\n",
    "\n",
    "\n",
    "x = 9\n",
    "out = Fib_iter(x)\n",
    "print(\"The Result = %d\"%(out))"
   ]
  },
  {
   "cell_type": "markdown",
   "metadata": {},
   "source": [
    "2-Program :  Calculate Faibonnce series Recursive                                              \n",
    "    Time Complexity : O(num)  "
   ]
  },
  {
   "cell_type": "code",
   "execution_count": 2,
   "metadata": {},
   "outputs": [
    {
     "name": "stdout",
     "output_type": "stream",
     "text": [
      "The Result = 34\n"
     ]
    }
   ],
   "source": [
    "def Fib_Rec (num):\n",
    "    if num == 0:\n",
    "        return num\n",
    "    elif num == 1:\n",
    "        return num\n",
    "    else :\n",
    "        return Fib_Rec(num-1)+Fib_Rec(num-2)\n",
    "\n",
    "x = 9\n",
    "out = Fib_Rec(x)\n",
    "print(\"The Result = %d\"%(out))"
   ]
  },
  {
   "cell_type": "markdown",
   "metadata": {},
   "source": [
    "3-Program :  Calculate Factorial Iterative                                                      \n",
    "    Time Complexity : O(num)  "
   ]
  },
  {
   "cell_type": "code",
   "execution_count": 5,
   "metadata": {},
   "outputs": [
    {
     "name": "stdout",
     "output_type": "stream",
     "text": [
      "The Result = 120\n"
     ]
    }
   ],
   "source": [
    "def Fact_Iter (num):\n",
    "    fact = 1\n",
    "    for i in range(1,num+1):\n",
    "        fact *= i\n",
    "    return fact\n",
    "\n",
    "\n",
    "\n",
    "x = 5\n",
    "out = Fact_Iter(x)\n",
    "print(\"The Result = %d\"%(out))"
   ]
  },
  {
   "cell_type": "markdown",
   "metadata": {},
   "source": [
    "4-Program :  Calculate Factorial Recursive                                                     \n",
    "    Time Complexity :   "
   ]
  },
  {
   "cell_type": "code",
   "execution_count": 6,
   "metadata": {},
   "outputs": [
    {
     "name": "stdout",
     "output_type": "stream",
     "text": [
      "The Result = 120\n"
     ]
    }
   ],
   "source": [
    "def Fact_Rec (num):\n",
    "    if num == 1:\n",
    "        return num\n",
    "    else :\n",
    "        return num * Fact_Rec(num-1)\n",
    "\n",
    "x = 5\n",
    "out = Fact_Rec(x)\n",
    "print(\"The Result = %d\"%(out))"
   ]
  },
  {
   "cell_type": "markdown",
   "metadata": {},
   "source": [
    "5-Program : Calculate Selection Sort                                                            \n",
    "    Time Complexity : O(n**2)  "
   ]
  },
  {
   "cell_type": "code",
   "execution_count": 7,
   "metadata": {},
   "outputs": [
    {
     "name": "stdout",
     "output_type": "stream",
     "text": [
      "[0, 5, 7, 10, 12, 14, 20, 36, 40, 80, 88, 100, 110]\n"
     ]
    }
   ],
   "source": [
    "def Selection_Sort(num_list):\n",
    "    for i in range(len(num_list)):\n",
    "        min_index = i\n",
    "        for j in range(i+1,len(num_list)):\n",
    "            if num_list[j] < num_list[min_index]:\n",
    "                min_index = j\n",
    "                \n",
    "        num_list[min_index] , num_list[i] = num_list[i] ,num_list[min_index]\n",
    "    return num_list\n",
    "\n",
    "x = [10,12,88,20,40,80,14,36,7,110,5,100,0]\n",
    "\n",
    "out = Selection_Sort(x)\n",
    "print(out)"
   ]
  },
  {
   "cell_type": "markdown",
   "metadata": {},
   "source": [
    "6-Program : Calculate Insertion Sort                                                            \n",
    "   Time Complexity : O(n**2) "
   ]
  },
  {
   "cell_type": "code",
   "execution_count": 8,
   "metadata": {},
   "outputs": [
    {
     "name": "stdout",
     "output_type": "stream",
     "text": [
      "[0, 5, 10, 12, 20, 40, 88, 100, 110]\n"
     ]
    }
   ],
   "source": [
    "def insertion_sort(num_list):\n",
    "    for i in range(1,len(num_list)):\n",
    "        less = num_list[i]\n",
    "        j = i-1\n",
    "        while j>= 0 and less < num_list[j]:\n",
    "            num_list[j+1] = num_list[j]\n",
    "            \n",
    "            j  -= 1\n",
    "        num_list[j+1] = less\n",
    "    return num_list\n",
    "\n",
    "\n",
    "x = [10,12,88,20,40,110,5,100,0]\n",
    "\n",
    "out = insertion_sort(x)\n",
    "print(out)"
   ]
  },
  {
   "cell_type": "markdown",
   "metadata": {},
   "source": [
    "7-Program : Binary Search Iterative                                                             \n",
    "    Time Complexity : O(log(n))  "
   ]
  },
  {
   "cell_type": "code",
   "execution_count": 10,
   "metadata": {},
   "outputs": [
    {
     "name": "stdout",
     "output_type": "stream",
     "text": [
      "Index of element 50 = 4\n"
     ]
    }
   ],
   "source": [
    "def Binary_Search_iter(num_list,num,left,right):\n",
    "    while left <= right:\n",
    "        mid = int((left+right)/2)\n",
    "        if num_list[mid] == num:\n",
    "            return mid\n",
    "        elif num_list[mid] < num :\n",
    "            left = mid+1\n",
    "        elif num_list[mid] > num :\n",
    "            right = mid-1\n",
    "    return -1\n",
    "\n",
    "x = [10,20,30,40,50,60]\n",
    "num =50\n",
    "out = Binary_Search_iter(x,num,0,(len(x)-1))\n",
    "print(\"Index of element {} = {}\".format(num,out))"
   ]
  },
  {
   "cell_type": "markdown",
   "metadata": {},
   "source": [
    "8-Program : Binary Search Recursive                                                            \n",
    "    Time Complexity : O(log(n)  "
   ]
  },
  {
   "cell_type": "code",
   "execution_count": 11,
   "metadata": {},
   "outputs": [
    {
     "name": "stdout",
     "output_type": "stream",
     "text": [
      "Index of element 60 = 5\n"
     ]
    }
   ],
   "source": [
    "def Binary_Search_Rec(num_list,num,left,right):\n",
    "    mid = int((left+right)/2)\n",
    "    if num_list[mid] == num:\n",
    "        return mid\n",
    "    elif num_list[mid] < num :\n",
    "        return Binary_Search_Rec(num_list,num,mid+1,right)\n",
    "    elif num_list[mid] > num :\n",
    "        return Binary_Search_Rec(num_list,num,left,mid-1)\n",
    "\n",
    "x = [10,20,30,40,50,60]\n",
    "num =60\n",
    "out = Binary_Search_Rec(x,num,0,(len(x)-1))\n",
    "print(\"Index of element {} = {}\".format(num,out))"
   ]
  },
  {
   "cell_type": "markdown",
   "metadata": {},
   "source": [
    "9-Program :  Bubble Sort Swap                                                                   \n",
    "    Time Complexity :  O(n**2)  "
   ]
  },
  {
   "cell_type": "code",
   "execution_count": 12,
   "metadata": {},
   "outputs": [
    {
     "name": "stdout",
     "output_type": "stream",
     "text": [
      "[0, 8, 10, 20, 30, 44, 70, 76, 290]\n"
     ]
    }
   ],
   "source": [
    "def Bubble_Sort_Swap(num_list):\n",
    "    for i in range(len(num_list)):\n",
    "        for j in range(len(num_list)-i-1):\n",
    "            if num_list[j] > num_list[j+1]:\n",
    "                num_list[j] , num_list[j+1] = num_list[j+1] , num_list[j]\n",
    "    return num_list\n",
    "\n",
    "\n",
    "x = [10,290,8,76,44,0,30,70,20]\n",
    "out = Bubble_Sort_Swap(x)\n",
    "print(out)"
   ]
  },
  {
   "cell_type": "markdown",
   "metadata": {},
   "source": [
    "10-Program :  Bubble Sort Optimization                                                           \n",
    "    Time Complexity :  O(n**2)  "
   ]
  },
  {
   "cell_type": "code",
   "execution_count": 13,
   "metadata": {},
   "outputs": [
    {
     "name": "stdout",
     "output_type": "stream",
     "text": [
      "[0, 8, 10, 20, 30, 44, 70, 76, 290]\n"
     ]
    }
   ],
   "source": [
    "def Bubble_Sort_Optimize(num_list):\n",
    "    for i in range(len(num_list)-1):\n",
    "        swap = False\n",
    "        for j in range(len(num_list)-i-1):\n",
    "            if num_list[j] > num_list[j+1]:\n",
    "                num_list[j] , num_list[j+1] = num_list[j+1] , num_list[j]\n",
    "                swap = True\n",
    "        if swap == False :\n",
    "            break\n",
    "    return num_list\n",
    "\n",
    "\n",
    "x = [10,290,8,15,88,68,76,44,0,30,70,20]\n",
    "out = Bubble_Sort_Optimize(x)\n",
    "print(out)"
   ]
  },
  {
   "cell_type": "markdown",
   "metadata": {},
   "source": [
    "11-Program :  Linear Search Iterative                                                            \n",
    "    Time Complexity : O(Len(Collection)) // O(n) "
   ]
  },
  {
   "cell_type": "code",
   "execution_count": 17,
   "metadata": {},
   "outputs": [
    {
     "name": "stdout",
     "output_type": "stream",
     "text": [
      "1\n",
      "[1, 5, 12]\n"
     ]
    }
   ],
   "source": [
    "def Linear_iter_V1 (collection , item):\n",
    "    for i in range(len(collection)):\n",
    "        if collection[i] == item :\n",
    "            return i\n",
    "    return -1\n",
    "\n",
    "def Linear_iter_V2 (collection , item):\n",
    "    is_exist = []\n",
    "    for i in range(len(collection)):\n",
    "        if collection[i] == item :\n",
    "            is_exist.append(i)\n",
    "    if len(is_exist) == 0:\n",
    "        return -1\n",
    "    else :\n",
    "        return is_exist\n",
    "\n",
    "x = [10,20,8,15,88,20,68,76,44,0,30,70,20]\n",
    "k = 20\n",
    "print(Linear_iter_V1(x,k))\n",
    "print(Linear_iter_V2(x,k))"
   ]
  },
  {
   "cell_type": "markdown",
   "metadata": {},
   "source": [
    "12-Program :  Linear Search Recursive                                                            \n",
    "   Time Complexity :  O(n)"
   ]
  },
  {
   "cell_type": "code",
   "execution_count": 18,
   "metadata": {},
   "outputs": [
    {
     "name": "stdout",
     "output_type": "stream",
     "text": [
      "3\n"
     ]
    }
   ],
   "source": [
    "def linearShearch(value,values_list, size):\n",
    "    \n",
    "    if values_list[size] == value :\n",
    "        return size\n",
    "    else:\n",
    "        return linearShearch(value, values_list, size-1)\n",
    "\n",
    "\n",
    "x = [10,20,30,40,50,60]\n",
    "x_len = len(x)-1\n",
    "out =linearShearch(40,x,x_len)\n",
    "\n",
    "print(out)\n"
   ]
  },
  {
   "cell_type": "markdown",
   "metadata": {},
   "source": [
    "13-Program : Calculate Gratest Comman Factor (Euclidian)                                         \n",
    "    Time Complexity : O(log(min(x,y)))  "
   ]
  },
  {
   "cell_type": "code",
   "execution_count": 19,
   "metadata": {},
   "outputs": [
    {
     "name": "stdout",
     "output_type": "stream",
     "text": [
      "The Greatest Comman Factor = 4\n"
     ]
    }
   ],
   "source": [
    "def GCF (x,y):\n",
    "    z = x%y\n",
    "    if z == 0:\n",
    "        return y\n",
    "    else :\n",
    "        return GCF(y,z) \n",
    "\n",
    "x = 24\n",
    "y = 20\n",
    "if x > y : \n",
    "    out = GCF(x,y)\n",
    "else :\n",
    "    out = GCF(y,x)\n",
    "print(\"The Greatest Comman Factor = %d\"%(out))"
   ]
  }
 ],
 "metadata": {
  "interpreter": {
   "hash": "a1142d720e99f307e4e70b441fdb64cbdb7932ac5e1ff734610ea88a30644c71"
  },
  "kernelspec": {
   "display_name": "Python 3.10.1 64-bit",
   "language": "python",
   "name": "python3"
  },
  "language_info": {
   "codemirror_mode": {
    "name": "ipython",
    "version": 3
   },
   "file_extension": ".py",
   "mimetype": "text/x-python",
   "name": "python",
   "nbconvert_exporter": "python",
   "pygments_lexer": "ipython3",
   "version": "3.10.1"
  },
  "orig_nbformat": 4
 },
 "nbformat": 4,
 "nbformat_minor": 2
}
