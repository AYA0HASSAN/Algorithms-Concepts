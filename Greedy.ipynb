{
 "cells": [
  {
   "cell_type": "markdown",
   "metadata": {},
   "source": [
    "Author : Aya Mohamed Hassan\n",
    "Group : 2 AI Smart Village\n",
    "Lab-2"
   ]
  },
  {
   "cell_type": "markdown",
   "metadata": {},
   "source": [
    "1- Money Change\n",
    "    Time Complexity : O(n)\n",
    "    Type : Greedy\n"
   ]
  },
  {
   "cell_type": "code",
   "execution_count": 1,
   "metadata": {},
   "outputs": [
    {
     "name": "stdout",
     "output_type": "stream",
     "text": [
      "List of Banknotes : [200, 100, 50, 20, 10, 5, 1]\n",
      "Value of Money = 91\n",
      "Number of Banknotes  = 91\n",
      "Banknotes : [50, 20, 20, 1]\n",
      "Test Case : \n",
      "List of Banknotes : [25, 15, 1]\n",
      "Value of Money = 30\n",
      "Number of Banknotes  = 30\n",
      "Banknotes : [25, 1, 1, 1, 1, 1]\n"
     ]
    }
   ],
   "source": [
    "def Money_Change_Greedy(money_list,money):\n",
    "    curancy = []\n",
    "    \n",
    "    for i in range(len(money_list)):\n",
    "        \n",
    "        while money >= 0:\n",
    "            \n",
    "            if money % money_list[i] != money:\n",
    "                curancy.append(money_list[i])\n",
    "                money= money-money_list[i]\n",
    "                \n",
    "            \n",
    "            else :\n",
    "                \n",
    "                break \n",
    "    return curancy\n",
    "\n",
    "money_list_E = [200,100,50,20,10,5,1]\n",
    "x = 91\n",
    "out = Money_Change_Greedy(money_list_E,x)\n",
    "print(\"List of Banknotes : {}\".format(money_list_E))\n",
    "print(\"Value of Money = {}\".format(x))\n",
    "print(\"Number of Banknotes  = {}\".format(sum(out)))\n",
    "print(\"Banknotes : {}\".format(out))\n",
    "\n",
    "# Test Case :\n",
    "print(\"Test Case : \")\n",
    "print(\"List of Banknotes : {}\".format([25,15,1]))\n",
    "print(\"Value of Money = {}\".format(30))\n",
    "print(\"Number of Banknotes  = {}\".format(sum(Money_Change_Greedy([25,15,1],30))))\n",
    "print(\"Banknotes : {}\".format(Money_Change_Greedy([25,15,1],30)))"
   ]
  },
  {
   "cell_type": "markdown",
   "metadata": {},
   "source": [
    "2- Money Change\n",
    "    Time Complexity : O(len(money_list)xMoney)      //O(mxn)\n",
    "    Type : Optimal"
   ]
  },
  {
   "cell_type": "code",
   "execution_count": 71,
   "metadata": {},
   "outputs": [
    {
     "name": "stdout",
     "output_type": "stream",
     "text": [
      "List of Banknotes : [200, 100, 50, 20, 10, 5, 1]\n",
      "Value of Money = 91\n",
      "Number of Banknotes  = (4, [])\n",
      "Test Case : \n",
      "List of Banknotes : [25, 15, 1]\n",
      "Value of Money = 30\n",
      "Number of Banknotes  = (2, [])\n"
     ]
    }
   ],
   "source": [
    "import sys\n",
    "def Money_Change_Optimal (money_list,money):\n",
    "    curancy = []\n",
    "    \n",
    "    table = [0 for x in range(money+1)]\n",
    "    table[0] = 0\n",
    "    for i in range(1,money+1):\n",
    "        table[i] = sys.maxsize\n",
    "    for i in range(1,money+1):\n",
    "        for j in range(len(money_list)):\n",
    "            if money_list[j] <= i:\n",
    "                added = table[i-money_list[j]]\n",
    "                if added != sys.maxsize and added+1 < table[i]:\n",
    "                    table[i] = added+1\n",
    "                    \n",
    "                    # curancy.append(money_list[j])\n",
    "                    \n",
    "    if table[money] == sys.maxsize:\n",
    "        return -1\n",
    "    return table[money],curancy\n",
    "\n",
    "money_list_E = [200,100,50,20,10,5,1]\n",
    "x = 91\n",
    "out = Money_Change_Optimal(money_list_E,x)\n",
    "print(\"List of Banknotes : {}\".format(money_list_E))\n",
    "print(\"Value of Money = {}\".format(x))\n",
    "print(\"Number of Banknotes  = {}\".format(out))\n",
    "\n",
    "# Test Case :\n",
    "print(\"Test Case : \")\n",
    "print(\"List of Banknotes : {}\".format([25,15,1]))\n",
    "print(\"Value of Money = {}\".format(30))\n",
    "print(\"Number of Banknotes  = {}\".format(Money_Change_Optimal([25,15,1],30)))"
   ]
  },
  {
   "cell_type": "markdown",
   "metadata": {},
   "source": [
    " Greedy solution = optimal ? \n",
    " Not in all cases it depends on the list of money it self, as Greedy Algorithm chooses the highest value to make it way safe\n",
    " Example : Let money_list = [25,15,1] and money = 30\n",
    " optimal will get 2 =>number of banknote while Greedy will get number of banknote = 6 [25,1,1,1,1,1] list of banknote  "
   ]
  },
  {
   "cell_type": "markdown",
   "metadata": {},
   "source": [
    "3- Zero-One Knapsack \n",
    "    Type : Greedy\n",
    "    Time Complixty : O(n) if we neglict small loop for calculating value/amount if Not O(n**2) "
   ]
  },
  {
   "cell_type": "code",
   "execution_count": 82,
   "metadata": {},
   "outputs": [
    {
     "name": "stdout",
     "output_type": "stream",
     "text": [
      "Element\tAmount\tValue\n",
      "Gold\t 10 \t 60\n",
      "Bronze\t 30 \t 120\n",
      "Silver\t 20 \t 100\n",
      "Max Value to Gain = 160\n"
     ]
    }
   ],
   "source": [
    "def zero_one_Knapsack_Greedy(amount_list,value_list,max_amount):\n",
    "    \n",
    "    value_amount = [i//j for i,j in zip(value_list,amount_list)]    # First Loop\n",
    "    gained = []\n",
    "    knap = []\n",
    "    \n",
    "    while sum(knap) < max_amount :                                  # Second Loop\n",
    "        \n",
    "        added = value_amount.index(max(value_amount))\n",
    "        new_knap = sum(knap)+amount_list[added]\n",
    "        \n",
    "        if new_knap < max_amount :\n",
    "            knap.append(amount_list[added])\n",
    "            gained.append(value_list[added])\n",
    "            del amount_list[added]\n",
    "            del value_amount[added]\n",
    "            del value_list[added]\n",
    "        else :\n",
    "            break\n",
    "    \n",
    "    return knap,gained\n",
    "\n",
    "\n",
    "x=[30,10,20]\n",
    "y=[120,60,100]\n",
    "\n",
    "print(\"Element\\tAmount\\tValue\")\n",
    "print(\"Gold\\t {} \\t {}\".format(x[1],y[1]))\n",
    "print(\"Bronze\\t {} \\t {}\".format(x[0],y[0]))\n",
    "print(\"Silver\\t {} \\t {}\".format(x[2],y[2]))\n",
    "\n",
    "knap , gained = zero_one_Knapsack_Greedy(x,y,50)\n",
    "print(\"Max Value to Gain = {}\".format(sum(gained)))\n",
    "# print(knap,gained,sum(gained))"
   ]
  },
  {
   "cell_type": "markdown",
   "metadata": {},
   "source": [
    "4- Zero-One Knapsack \n",
    "    Type : Brute-Force Optimal\n",
    "    Time Complixty : O(2**n) "
   ]
  },
  {
   "cell_type": "code",
   "execution_count": 83,
   "metadata": {},
   "outputs": [
    {
     "name": "stdout",
     "output_type": "stream",
     "text": [
      "Element\tAmount\tValue\n",
      "Gold\t10\t60\n",
      "Bronze\t30\t120\n",
      "Silver\t20\t100\n",
      "Max Value to Gain = 220\n"
     ]
    }
   ],
   "source": [
    "def zero_one_knapsack_optimal(amount_list,value_list,max_amount,size):\n",
    "    # value_amount = [i//j for i,j in zip(value_list,amount_list)]\n",
    "    if size == 0 or max_amount == 0:\n",
    "        return 0\n",
    "\n",
    "    if (amount_list[size-1] > max_amount):\n",
    "        return zero_one_knapsack_optimal(amount_list,value_list,max_amount,size-1)\n",
    "\n",
    "    else :\n",
    "        return max(\n",
    "            value_list[size-1]+ zero_one_knapsack_optimal(amount_list,value_list,max_amount-amount_list[size-1],size-1),\n",
    "                    zero_one_knapsack_optimal(amount_list,value_list,max_amount,size-1))\n",
    "        \n",
    "\n",
    "x=[10,30,20]\n",
    "y=[60,120,100]\n",
    "size = len(x)\n",
    "out = zero_one_knapsack_optimal(x,y,50,size)\n",
    "print(\"Element\\tAmount\\tValue\")\n",
    "print(\"Gold\\t{}\\t{}\".format(x[0],y[0]))\n",
    "print(\"Bronze\\t{}\\t{}\".format(x[1],y[1]))\n",
    "print(\"Silver\\t{}\\t{}\".format(x[2],y[2]))\n",
    "print(\"Max Value to Gain = {}\".format(out))"
   ]
  },
  {
   "cell_type": "markdown",
   "metadata": {},
   "source": [
    " Greedy solution = optimal ? \n",
    "No ,not in any case as in 0-1 knapstack you either take the elemnet/item or leave it so that the greedy algorithm will choose the element with highest value/amount each time and that not optimal at all\n",
    "Example : as we see in the code in greedy algorithm chooses \"Gold\" that has highest value\\amount while optimal algorithm search for highest gained value at all searches for all combinations"
   ]
  },
  {
   "cell_type": "code",
   "execution_count": 79,
   "metadata": {},
   "outputs": [
    {
     "name": "stdout",
     "output_type": "stream",
     "text": [
      "20\n",
      "Gold\t 30 \t 120\n",
      "Bronze\t 10 \t 60\n",
      "Silver\t20\t100\n"
     ]
    }
   ],
   "source": [
    "import numpy as np\n",
    "x=[10,30,20]\n",
    "y=[60,120,100]\n",
    "combination = np.empty(((len(x))**2,len(x)),int)\n",
    "print(x[2])\n",
    "print(\"Gold\\t {} \\t {}\".format(x[1],y[1]))\n",
    "print(\"Bronze\\t {} \\t {}\".format(x[0],y[0]))\n",
    "print(\"Silver\\t{}\\t{}\".format(x[2],y[2]))"
   ]
  },
  {
   "cell_type": "markdown",
   "metadata": {},
   "source": [
    "5- Fraction Knapsack\n",
    "    Type : Greedy\n",
    "    Time Complexity : O(nlogn)\n"
   ]
  },
  {
   "cell_type": "code",
   "execution_count": 85,
   "metadata": {},
   "outputs": [
    {
     "name": "stdout",
     "output_type": "stream",
     "text": [
      "Element\tAmount\tValue\n",
      "Gold\t 10 \t 60\n",
      "Bronze\t 30 \t 120\n",
      "Silver\t 20 \t 100\n",
      "Max Value to Gain = 240\n"
     ]
    }
   ],
   "source": [
    "def Fractional_Knapsack_Greedy (amount_list,value_list,max_value):\n",
    "    \n",
    "    value_amount = [i//j for i,j in zip(value_list,amount_list)]\n",
    "    knap = []\n",
    "    gained = []\n",
    "    \n",
    "    while sum(knap) < max_value:\n",
    "        added = value_amount.index(max(value_amount))\n",
    "        new_knap = sum(knap) + amount_list[added]\n",
    "        if new_knap < max_value :\n",
    "            \n",
    "            knap.append(amount_list[added])\n",
    "            gained.append(value_list[added])\n",
    "            del amount_list[added]\n",
    "            del value_amount[added]\n",
    "            del value_list[added]\n",
    "            \n",
    "        elif max_value - sum(knap) != 0 :\n",
    "            remain = max_value - sum(knap)\n",
    "            neglicted = amount_list[added]-remain\n",
    "            knap.append(amount_list[added]-neglicted)\n",
    "            gained.append(value_amount[added]*(amount_list[added]-neglicted))\n",
    "        else :\n",
    "            break\n",
    "    \n",
    "    return knap,gained\n",
    "    \n",
    "\n",
    "x=[30,10,20]\n",
    "y=[120,60,100]\n",
    "print(\"Element\\tAmount\\tValue\")\n",
    "print(\"Gold\\t {} \\t {}\".format(x[1],y[1]))\n",
    "print(\"Bronze\\t {} \\t {}\".format(x[0],y[0]))\n",
    "print(\"Silver\\t {} \\t {}\".format(x[2],y[2]))\n",
    "\n",
    "knap , gained = Fractional_Knapsack_Greedy(x,y,50)\n",
    "print(\"Max Value to Gain = {}\".format(sum(gained)))\n",
    "# print(knap,gained,sum(gained))"
   ]
  },
  {
   "cell_type": "markdown",
   "metadata": {},
   "source": [
    " Greedy solution = optimal ? \n",
    " Yes, actually Greedy is optimal than using Brute Force as calculating the fraction of all elements and get the best combination of all these actually is very costy the best choice we had is to use Greedy algorithm "
   ]
  }
 ],
 "metadata": {
  "interpreter": {
   "hash": "a1142d720e99f307e4e70b441fdb64cbdb7932ac5e1ff734610ea88a30644c71"
  },
  "kernelspec": {
   "display_name": "Python 3.10.1 64-bit",
   "language": "python",
   "name": "python3"
  },
  "language_info": {
   "codemirror_mode": {
    "name": "ipython",
    "version": 3
   },
   "file_extension": ".py",
   "mimetype": "text/x-python",
   "name": "python",
   "nbconvert_exporter": "python",
   "pygments_lexer": "ipython3",
   "version": "3.10.1"
  },
  "orig_nbformat": 4
 },
 "nbformat": 4,
 "nbformat_minor": 2
}
